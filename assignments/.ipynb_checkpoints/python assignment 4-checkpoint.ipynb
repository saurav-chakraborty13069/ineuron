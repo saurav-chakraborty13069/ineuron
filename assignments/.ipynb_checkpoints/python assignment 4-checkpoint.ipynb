{
 "cells": [
  {
   "cell_type": "markdown",
   "metadata": {},
   "source": [
    "1.1 Write a Python Program(with class concepts) to find the area of the triangle using the below\n",
    "formula.\n",
    "area = (s*(s-a)*(s-b)*(s-c)) ** 0.5\n",
    "Function to take the length of the sides of triangle from user should be defined in the parent\n",
    "class and function to calculate the area should be defined in subclass."
   ]
  },
  {
   "cell_type": "code",
   "execution_count": 18,
   "metadata": {},
   "outputs": [],
   "source": [
    "\n",
    "class parent:\n",
    "    def __init__(self,a,b,c):\n",
    "        self.a = a\n",
    "        self.b = b\n",
    "        self.c = c\n",
    "    \n",
    "    def __str__(self):\n",
    "        return (\"sides of a triangle are {}, {}, {}\".format(self.a, self.b, self.c))\n",
    "        \n",
    "        \n",
    "#triangle = parent(2, 3, 4)\n",
    "#print(triangle.a)\n",
    "#print(triangle.b)\n",
    "#print(triangle.c)\n",
    "#print(triangle)\n",
    "    \n",
    "    "
   ]
  },
  {
   "cell_type": "code",
   "execution_count": 19,
   "metadata": {},
   "outputs": [],
   "source": [
    "class child(parent):\n",
    "    def __init__(self, *args):\n",
    "        super(child, self).__init__(*args)\n",
    "        #self.ar = ar\n",
    "        \n",
    "    def area(self):\n",
    "        s = (self.a+self.b+self.c)/2\n",
    "        return (s*(s-self.a)*(s-self.b)*(s-self.c))**0.5\n",
    "        #return ar\n",
    "    \n",
    "    \n",
    "        \n",
    "    \n",
    "    "
   ]
  },
  {
   "cell_type": "code",
   "execution_count": 20,
   "metadata": {},
   "outputs": [
    {
     "name": "stdout",
     "output_type": "stream",
     "text": [
      "Area of triangle = 6.0\n"
     ]
    }
   ],
   "source": [
    "instance = child(3,4,5)\n",
    "print (\"Area of triangle = \" + str(instance.area()) )\n"
   ]
  },
  {
   "cell_type": "markdown",
   "metadata": {},
   "source": [
    "1.2 Write a function filter_long_words() that takes a list of words and an integer n and returns\n",
    "the list of words that are longer than n."
   ]
  },
  {
   "cell_type": "code",
   "execution_count": 21,
   "metadata": {},
   "outputs": [
    {
     "name": "stdout",
     "output_type": "stream",
     "text": [
      "integer n2\n",
      "['this', 'python', 'assignment', 'from', 'ineuron']\n"
     ]
    }
   ],
   "source": [
    "def filter_long_words():\n",
    "    words = ['this', 'is', 'python', 'assignment', '4', 'from', 'ineuron']\n",
    "    n = int(input(\"integer n\"))\n",
    "    final_lst = []\n",
    "    for i in words:\n",
    "        if len(i)>n:\n",
    "            final_lst.append(i)\n",
    "            \n",
    "    return final_lst\n",
    "    \n",
    "x = filter_long_words()\n",
    "print(x)"
   ]
  },
  {
   "cell_type": "markdown",
   "metadata": {},
   "source": [
    "2.1 Write a Python program using function concept that maps list of words into a list of integers\n",
    "representing the lengths of the corresponding words.\n",
    "Hint: If a list [ ab,cde,erty] is passed on to the python function output should come as [2,3,4]\n",
    "Here 2,3 and 4 are the lengths of the words in the list."
   ]
  },
  {
   "cell_type": "code",
   "execution_count": 22,
   "metadata": {},
   "outputs": [
    {
     "name": "stdout",
     "output_type": "stream",
     "text": [
      "[4, 2, 6, 10, 1, 4, 7]\n"
     ]
    }
   ],
   "source": [
    "def length_of_words(l):\n",
    "    x = []\n",
    "    for i in l:\n",
    "        x.append(len(i))\n",
    "        \n",
    "    return x\n",
    "\n",
    "\n",
    "words = ['this', 'is', 'python', 'assignment', '4', 'from', 'ineuron']   \n",
    "final_lst = length_of_words(words)\n",
    "print(final_lst)"
   ]
  },
  {
   "cell_type": "markdown",
   "metadata": {},
   "source": [
    "2.2 Write a Python function which takes a character (i.e. a string of length 1) and returns True if\n",
    "it is a vowel, False otherwise."
   ]
  },
  {
   "cell_type": "code",
   "execution_count": 24,
   "metadata": {},
   "outputs": [
    {
     "name": "stdout",
     "output_type": "stream",
     "text": [
      "enter characterb\n",
      "False\n"
     ]
    }
   ],
   "source": [
    "def is_vowel(s):\n",
    "    if len(s)==1:\n",
    "        if s in ['a','e','i','o','u']:\n",
    "            return True\n",
    "        else:\n",
    "            return False\n",
    "    else:\n",
    "        print(\"Enter a Character of length 1\")\n",
    "\n",
    "s = input(\"enter character\")\n",
    "print(is_vowel(s))"
   ]
  },
  {
   "cell_type": "code",
   "execution_count": null,
   "metadata": {},
   "outputs": [],
   "source": []
  },
  {
   "cell_type": "code",
   "execution_count": null,
   "metadata": {},
   "outputs": [],
   "source": []
  }
 ],
 "metadata": {
  "kernelspec": {
   "display_name": "Python 3",
   "language": "python",
   "name": "python3"
  },
  "language_info": {
   "codemirror_mode": {
    "name": "ipython",
    "version": 3
   },
   "file_extension": ".py",
   "mimetype": "text/x-python",
   "name": "python",
   "nbconvert_exporter": "python",
   "pygments_lexer": "ipython3",
   "version": "3.7.6"
  }
 },
 "nbformat": 4,
 "nbformat_minor": 2
}
